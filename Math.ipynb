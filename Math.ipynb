{
 "cells": [
  {
   "cell_type": "markdown",
   "metadata": {},
   "source": [
    "# Programming for discrete mathematics. \n",
    "\n",
    "This notebook contains programs related to topics covered in discrete mathematics, such as multiplication of permutation groups, the Euclidean Algorithm to generate coprimes, matrix multiplication where elements of the matrix belong to a finite field, and generating an Eulerian walk for a graph with all even vertices.\n",
    "\n",
    "## Contents:\n",
    "    1.1 Group Multiplication of S3 \n",
    "\n",
    "    1.2 Group multiplication of A4\n",
    "\n",
    "    1.3 Group Multiplication of S4 (buggy)\n",
    "\n",
    "    2.1 Permutation composition in A5\n",
    "\n",
    "    2.2 Permutation composition up to 9 elements.\n",
    "\n",
    "    3.1 Generating the multiplication table and order of coprimes of a number\n",
    "\n",
    "    4.1 Multiplying two matrices in SL_2(F4)\n",
    "\n",
    "    5.1 Arithmetic in finite fields F4 and F5\n",
    "\n",
    "    6.1 Constructing an Eulerian walk for a graph with all even vertices"
   ]
  },
  {
   "cell_type": "markdown",
   "metadata": {},
   "source": [
    "## 1.1 Group Multiplication of S3 \n",
    "Program that represents the six elements of D3 as strings of zero, one or two r’s followed by zero or one f’s and does group multiplication by concatenating strings and using defining relations to rewrite the result. out of 4 points"
   ]
  },
  {
   "cell_type": "code",
   "execution_count": 6,
   "metadata": {
    "collapsed": false
   },
   "outputs": [
    {
     "name": "stdout",
     "output_type": "stream",
     "text": [
      " composed with  equals: \n",
      " composed with r equals: r\n",
      " composed with rr equals: rr\n",
      " composed with f equals: f\n",
      " composed with rf equals: rf\n",
      " composed with rrf equals: rrf\n",
      "r composed with  equals: r\n",
      "r composed with r equals: rr\n",
      "r composed with rr equals: \n",
      "r composed with f equals: rf\n",
      "r composed with rf equals: rrf\n",
      "r composed with rrf equals: f\n",
      "rr composed with  equals: rr\n",
      "rr composed with r equals: \n",
      "rr composed with rr equals: r\n",
      "rr composed with f equals: rrf\n",
      "rr composed with rf equals: f\n",
      "rr composed with rrf equals: rf\n",
      "f composed with  equals: f\n",
      "f composed with r equals: rrf\n",
      "f composed with rr equals: rf\n",
      "f composed with f equals: \n",
      "f composed with rf equals: rr\n",
      "f composed with rrf equals: r\n",
      "rf composed with  equals: rf\n",
      "rf composed with r equals: f\n",
      "rf composed with rr equals: rrf\n",
      "rf composed with f equals: r\n",
      "rf composed with rf equals: \n",
      "rf composed with rrf equals: rr\n",
      "rrf composed with  equals: rrf\n",
      "rrf composed with r equals: rf\n",
      "rrf composed with rr equals: f\n",
      "rrf composed with f equals: rr\n",
      "rrf composed with rf equals: r\n",
      "rrf composed with rrf equals: \n"
     ]
    }
   ],
   "source": [
    "import re\n",
    "\n",
    "group=['','r','rr','f','rf','rrf']\n",
    "\n",
    "def D3mult(A,B):\n",
    "    if ((A not in group) or (B not in group)):\n",
    "        print (\"please enter elements in standard group form\")\n",
    "        return None\n",
    "    prod = A+B\n",
    "    while (prod not in group):\n",
    "        prod = re.sub('fr','rrf', prod)\n",
    "        prod = re.sub('rrr','', prod)\n",
    "        prod = re.sub('ff','',prod)\n",
    "    print A+\" composed with \"+B+\" equals: \"+str(prod)\n",
    "\n",
    "\n",
    "#checking with all combinations\n",
    "for i in group:\n",
    "    for j in group:\n",
    "        D3mult(i,j)\n",
    "\n",
    "#D3mult('rf','rrf')        "
   ]
  },
  {
   "cell_type": "markdown",
   "metadata": {},
   "source": [
    "# 1.2 Group multiplication of A4\n",
    "Group Multiplication of A4 using regular expressions. Out of 4 points"
   ]
  },
  {
   "cell_type": "code",
   "execution_count": 11,
   "metadata": {
    "collapsed": false
   },
   "outputs": [
    {
     "name": "stdout",
     "output_type": "stream",
     "text": [
      "rfr composed with rfrr equals: rrf\n"
     ]
    }
   ],
   "source": [
    "import re\n",
    "\n",
    "allowed = ['','r','rr','f','fr','frr','rf','rfr','rfrr', 'rrf','rrfr','rrfrr']\n",
    "\n",
    "def A4mult(A,B):\n",
    "    if ((A not in allowed) or (B not in allowed)):\n",
    "        print (\"please enter elements in standard group form\")\n",
    "        return None\n",
    "    prod = A+B\n",
    "    while (prod not in allowed):\n",
    "        prod = re.sub('rrr','', prod)\n",
    "        prod = re.sub('ff','', prod)\n",
    "        prod = re.sub('fr','rrfrrf',prod)\n",
    "        prod = re.sub('rrr','', prod)\n",
    "        prod = re.sub('ff','', prod)\n",
    "        prod = re.sub('rrr','', prod)\n",
    "    print A+\" composed with \"+B+\" equals: \"+str(prod)\n",
    "    \n",
    "# #checking all\n",
    "# for i in allowed:\n",
    "#     for j in allowed:\n",
    "#         A4mult(i,j)\n",
    "\n",
    "A4mult('rfr','rfrr')"
   ]
  },
  {
   "cell_type": "markdown",
   "metadata": {},
   "source": [
    "# 1.3 Group Multiplication of S4\n",
    "Buggy, does not work for all inputs. out of 4 points."
   ]
  },
  {
   "cell_type": "code",
   "execution_count": 25,
   "metadata": {
    "collapsed": false
   },
   "outputs": [
    {
     "name": "stdout",
     "output_type": "stream",
     "text": [
      "rrf composed with fr equals: rrr\n"
     ]
    }
   ],
   "source": [
    "import re\n",
    "\n",
    "allowed = ['','r','rr','rrr','f','rf','rrf','rrrf','fr','rfr','rrfr','rrrfr','frr','rfrr','rrfrr','rrrfrr','frrr','rfrrr','rrfrrr','rrrfrrr','frrf','rfrrf','rrfrrf','rrrfrrf']#,'frf','rfrf','rrfrf','rrrfrf']\n",
    "\n",
    "def S4mult(A,B):\n",
    "    prod = A+B\n",
    "    if ((A not in allowed) or (B not in allowed)):\n",
    "        print(\"Error: input elements in allowed form\")\n",
    "    elif ((A=='frrf') and (b=='rfrrf')):\n",
    "        print(\"r\")\n",
    "    elif ((A=='frrf') and (b=='rrrfrrf')):\n",
    "        print(\"rrr\")\n",
    "    else: \n",
    "        while (prod not in allowed):\n",
    "            #reduce\n",
    "            prod = re.sub('rfrfrf','',prod)\n",
    "            prod = re.sub('rrrr','', prod)\n",
    "            prod = re.sub('ff','', prod)\n",
    "            prod = re.sub('rrrr','', prod)\n",
    "            prod = re.sub('ff','', prod)\n",
    "            prod = re.sub('rfrfrf','',prod)\n",
    "            prod = re.sub('rrrr','', prod)\n",
    "            prod = re.sub('ff','', prod)\n",
    "            prod = re.sub('rrrr','', prod)\n",
    "            prod = re.sub('ff','', prod)\n",
    "            #check if we made it\n",
    "            if prod in allowed:\n",
    "                break\n",
    "            #expand if necessary, and then follow loop up to reduce again\n",
    "            prod = re.sub('f','rfrfr',prod)\n",
    "        print A+\" composed with \"+B+\" equals: \"+str(prod)\n",
    "\n",
    "S4mult('rrf','fr')\n",
    "        \n",
    "#problem cases\n",
    "#S4mult('frrf','rfrrf')\n",
    "# S4mult('frrf','rrrfrrf')\n",
    "\n",
    "# for i in allowed:\n",
    "#     for j in allowed:\n",
    "#         print(i)\n",
    "#         print(\"with\")\n",
    "#         print(j)\n",
    "#         print(\"equals\")\n",
    "#         S4mult(i,j)"
   ]
  },
  {
   "cell_type": "markdown",
   "metadata": {},
   "source": [
    "# 2.1 Permutation composition in A5. \n",
    "Multiplies two permutations in A5. Out of 4 points."
   ]
  },
  {
   "cell_type": "code",
   "execution_count": 16,
   "metadata": {
    "collapsed": false
   },
   "outputs": [
    {
     "name": "stdout",
     "output_type": "stream",
     "text": [
      "(135)\n",
      "(245)\n"
     ]
    }
   ],
   "source": [
    "\"\"\"permuation in A5\n",
    "permutation A composed permutation B. first B, then A\n",
    "A and B are lists representing elements of A5\"\"\"\n",
    "\n",
    "#function that tells you where an element gets sent. for (1234), 1 would return 2 bc 1==>2\n",
    "def target(perm, item):\n",
    "    for x in perm:\n",
    "        if item in x:\n",
    "             return x[(x.index(item)+1)%(len(x))]\n",
    "    #if not found in permutation, return item\n",
    "    return item\n",
    "\n",
    "def permute(A,B):\n",
    "    #parse our string inputs\n",
    "    A=A.split(')')\n",
    "    A.remove('')\n",
    "    B=B.split(')')\n",
    "    B.remove('')\n",
    "    \n",
    "    X=[]\n",
    "    Y=[]\n",
    "    \n",
    "    for a in A:\n",
    "        a= a.replace('(',\"\")\n",
    "        X.append(a)\n",
    "    for b in B:\n",
    "        b=b.replace('(',\"\")\n",
    "        Y.append(b)\n",
    "\n",
    "    results1 = dict() \n",
    "    results2 = dict()\n",
    "    #initialize final list to be returned\n",
    "    results = dict()\n",
    "    \n",
    "    for y in Y:\n",
    "        for i in y:\n",
    "            results1[i]=target(Y,i)\n",
    "    \n",
    "    for x in X:\n",
    "        for i in x:\n",
    "            results2[i]=target(X,i)\n",
    "    \n",
    "    for i in xrange(1,6):\n",
    "        first = results1.get(str(i),str(i))\n",
    "        second= results2.get(first,first)\n",
    "        results[i]=second\n",
    "    \n",
    "    result_list= [(str(k), v) for k, v in results.iteritems()]\n",
    "        \n",
    "    string = ''\n",
    "    \n",
    "    for i in result_list:\n",
    "        if i[0]==i[1]:\n",
    "            result_list.remove(i)\n",
    "    \n",
    "    while result_list:\n",
    "        \n",
    "        found = []\n",
    "        to_remove=[]\n",
    "        \n",
    "        string = string+'('\n",
    "        first = result_list[0][0]\n",
    "        string = string+first\n",
    "        next1 = result_list[0][1]\n",
    "\n",
    "        found.append(next1)\n",
    "        \n",
    "        while next1!=first:\n",
    "            string = string+next1\n",
    "            next1 = results[int(next1)]\n",
    "            found.append(next1)\n",
    "            \n",
    "        string = string +')'\n",
    "        \n",
    "        for i in result_list:\n",
    "            if i[1] in found:\n",
    "                to_remove.append(i)\n",
    "        for i in to_remove:\n",
    "            result_list.remove(i)\n",
    "                    \n",
    "    print string\n",
    "        \n",
    "permute('(12345)','(12)(34)')\n",
    "permute('(12)(34)','(12345)')   \n"
   ]
  },
  {
   "cell_type": "markdown",
   "metadata": {},
   "source": [
    "# 2.2 Permutation composition up to 9 elements.\n",
    "Function takes two permutations a and b of 1...9, represented in cycle notation as character strings, and computes and displays ab, ba, aba−1 and bab−1 . out of 6 points."
   ]
  },
  {
   "cell_type": "code",
   "execution_count": 17,
   "metadata": {
    "collapsed": false
   },
   "outputs": [
    {
     "name": "stdout",
     "output_type": "stream",
     "text": [
      "A is (14523)\n",
      "B is (123456789)\n",
      "A inverse is (32541)\n",
      "B inverse is (987654321)\n",
      "A.B is (135678942)\n",
      "B.A is (153246789)\n",
      "A.B.A_inverse is (152678943)\n",
      "B.A.B_inverse is (25634)(8)\n"
     ]
    }
   ],
   "source": [
    "#function that tells you where an element gets sent. for (1234), 1 would return 2 bc 1==>2\n",
    "def target(perm, item):\n",
    "    for x in perm:\n",
    "        if item in x:\n",
    "             return x[(x.index(item)+1)%(len(x))]\n",
    "    #if not found in permutation, return item\n",
    "    return item\n",
    "\n",
    "import re\n",
    "\n",
    "def permute9(A,B):\n",
    "    #parse our string inputs\n",
    "    A=A.split(')')\n",
    "    A.remove('')\n",
    "    B=B.split(')')\n",
    "    B.remove('')\n",
    "    \n",
    "    X=[]\n",
    "    Y=[]\n",
    "    \n",
    "    for a in A:\n",
    "        a= a.replace('(',\"\")\n",
    "        X.append(a)\n",
    "    for b in B:\n",
    "        b=b.replace('(',\"\")\n",
    "        Y.append(b)\n",
    "\n",
    "    results1 = dict() \n",
    "    results2 = dict()\n",
    "    #initialize final list to be returned\n",
    "    results = dict()\n",
    "    \n",
    "    for y in Y:\n",
    "        for i in y:\n",
    "            results1[i]=target(Y,i)\n",
    "    \n",
    "    for x in X:\n",
    "        for i in x:\n",
    "            results2[i]=target(X,i)\n",
    "    \n",
    "    for i in xrange(1,10):\n",
    "        first = results1.get(str(i),str(i))\n",
    "        second= results2.get(first,first)\n",
    "        results[i]=second\n",
    "    \n",
    "    result_list= [(str(k), v) for k, v in results.iteritems()]\n",
    "        \n",
    "    string = ''\n",
    "    \n",
    "    for i in result_list:\n",
    "        if i[0]==i[1]:\n",
    "            result_list.remove(i)\n",
    "    \n",
    "    while result_list:\n",
    "        \n",
    "        found = []\n",
    "        to_remove=[]\n",
    "        \n",
    "        string = string+'('\n",
    "        first = result_list[0][0]\n",
    "        string = string+first\n",
    "        next1 = result_list[0][1]\n",
    "\n",
    "        found.append(next1)\n",
    "        \n",
    "        while next1!=first:\n",
    "            string = string+next1\n",
    "            next1 = results[int(next1)]\n",
    "            found.append(next1)\n",
    "            \n",
    "        string = string +')'\n",
    "\n",
    "        \n",
    "        for i in result_list:\n",
    "            if i[1] in found:\n",
    "                to_remove.append(i)\n",
    "        for i in to_remove:\n",
    "            result_list.remove(i)\n",
    "                    \n",
    "    return string\n",
    "\n",
    "\"\"\"USER INPUT HERE\"\"\"\n",
    "A='(14523)'\n",
    "B='(123456789)'\n",
    "A_inv=A[::-1]\n",
    "A_inv = A_inv[1:(len(A_inv)-1)]\n",
    "A_inv = '('+A_inv+')'\n",
    "\n",
    "B_inv=B[::-1]\n",
    "B_inv = B_inv[1:(len(B_inv)-1)]\n",
    "B_inv = '('+B_inv+')'\n",
    "\n",
    "print \"A is \"+A\n",
    "print \"B is \"+B\n",
    "print \"A inverse is \"+A_inv\n",
    "print \"B inverse is \"+B_inv\n",
    "\n",
    "print \"A.B is \"+permute9(A,B)\n",
    "print \"B.A is \"+permute9(B,A)\n",
    "print \"A.B.A_inverse is \"+ permute9(A,permute9(B,A_inv))\n",
    "print \"B.A.B_inverse is \"+ permute9(B,permute9(A,B_inv))"
   ]
  },
  {
   "cell_type": "markdown",
   "metadata": {},
   "source": [
    "# 2.3 Generating the multiplication table and order of coprimes of a number\n",
    "Function that takes an integer q < 50, determines the set S of\n",
    "integers < q that are coprime to q, and displays the group multiplication\n",
    "table for S along with a table showing the orders of elements that occur,\n",
    "and the number of elements of that order, e.g.“There are 6 elements of\n",
    "order 4.\" out of 6 points"
   ]
  },
  {
   "cell_type": "code",
   "execution_count": 20,
   "metadata": {
    "collapsed": false
   },
   "outputs": [
    {
     "name": "stdout",
     "output_type": "stream",
     "text": [
      "The coprimes of 10 are [1, 3, 7, 9]\n",
      "  1   3   7   9 \n",
      "  3   9  21  27 \n",
      "  7  21  49  63 \n",
      "  9  27  63  81 \n",
      "Element of mult table: corresponding order (mod q)\n",
      "{81: 1, 9: 9, 49: 9, 21: 1, 27: 3, 63: 7}\n",
      "There are 2 elements of order 1\n",
      "There are 2 elements of order 2\n"
     ]
    }
   ],
   "source": [
    "#gcd using euclidean algorithm\n",
    "def GCD(a, b):\n",
    "    if b == 0:\n",
    "        return a\n",
    "    else:\n",
    "        return GCD(b, a % b)\n",
    "\n",
    "def coprimes(q):\n",
    "    coprimes=[]\n",
    "    for i in range(1,q):\n",
    "        if GCD(q,i)==1:\n",
    "            coprimes.append(i)\n",
    "    print \"The coprimes of\",q,\"are\",coprimes\n",
    "    return coprimes\n",
    "\n",
    "def mult_table(coprimes):\n",
    "    products=[]\n",
    "    for row in coprimes:\n",
    "        s = ''\n",
    "        for col in coprimes:\n",
    "            s += '{:3} '.format(row * col)\n",
    "            products.append(row*col)\n",
    "        print(s)\n",
    "        \n",
    "    products.append(1)\n",
    "    for i in coprimes:\n",
    "        products.remove(i)\n",
    "    for i in coprimes:\n",
    "        products.remove(i)\n",
    "    \n",
    "    return products\n",
    "    \n",
    "def orders(coprimes,q):\n",
    "    order = dict()\n",
    "    for coprime in coprimes:\n",
    "        #print coprime\n",
    "        for i in range(1,50):\n",
    "            #print i\n",
    "            if (coprime*i)%q==1:\n",
    "                order[coprime]=i\n",
    "                break\n",
    "    \n",
    "    print \"Element of mult table: corresponding order (mod q)\"\n",
    "    print order\n",
    "    \n",
    "    vals = {}                       \n",
    "    for i in order.values():\n",
    "        vals[i] = 1 + vals.get(i,0) \n",
    "                                   \n",
    "    counts = {}                     \n",
    "    for i in range(0,max(vals.values())+1):\n",
    "        counts[i] = len([x for x in vals.values() if x == i])\n",
    "\n",
    "    for key in sorted(counts.keys()):\n",
    "        if counts[key] > 0:\n",
    "            print \"There are\",counts[key],\"elements of order\",key\n",
    "             #print key,\":\",counts[key]        \n",
    "\n",
    "#coprimes(10)\n",
    "foo = mult_table(coprimes(10))  \n",
    "orders(foo,10)"
   ]
  },
  {
   "cell_type": "markdown",
   "metadata": {},
   "source": [
    "# 3.1 Multiplying two matrices in SL_2(F4)\n",
    "Function which multiplies two matrices with elements in F4 and having determinant 1. I do not perform error checking to make sure all elements are in S4. out of 4 points"
   ]
  },
  {
   "cell_type": "code",
   "execution_count": 39,
   "metadata": {
    "collapsed": false
   },
   "outputs": [
    {
     "name": "stdout",
     "output_type": "stream",
     "text": [
      "[['x', '1'], ['x', 'x']]\n"
     ]
    }
   ],
   "source": [
    "import numpy as np\n",
    "import re\n",
    "\n",
    "def product(x,y):\n",
    "    if x=='0'or y=='0':\n",
    "        return '0'\n",
    "    elif x=='1':\n",
    "        return y\n",
    "    elif y=='1':\n",
    "        return x\n",
    "    elif x=='x':\n",
    "        if y=='x+1':\n",
    "            return '1'\n",
    "        if y=='x':\n",
    "            return 'x+1'\n",
    "    elif y =='x':\n",
    "        if x=='x+1':\n",
    "            return '1'\n",
    "\n",
    "def SL_mult(A,B): #A and B must be matrices with elements in F4. I do not error check that elements are in F4\n",
    "    #initialize product matrix\n",
    "    C=[[0,0],[0,0]]\n",
    "    #perform matrix multiplcation\n",
    "    C[0][0]=product(A[0][0],B[0][0])+'+'+product(A[0][1],B[1][0])\n",
    "    C[0][1]=product(A[0][0],B[0][1])+'+'+product(A[0][1],B[1][1])\n",
    "    C[1][0]=product(A[1][0],B[0][0])+'+'+product(A[1][1],B[1][0])\n",
    "    C[1][1]=product(A[1][0],B[0][1])+'+'+product(A[1][1],B[1][1])\n",
    "    for i in range(2):\n",
    "         for j in range(2):\n",
    "                C[i][j]=re.sub(re.escape('0+0'),'0',C[i][j])\n",
    "                C[i][j]=re.sub(re.escape('0+1'),'1',C[i][j])\n",
    "                C[i][j]=re.sub(re.escape('0+x'),'x',C[i][j])\n",
    "                C[i][j]=re.sub(re.escape('0+x+1'),'x+1',C[i][j])\n",
    "                C[i][j]=re.sub(re.escape('1+0'),'1',C[i][j])\n",
    "                C[i][j]=re.sub(re.escape('1+1'),'0',C[i][j])\n",
    "                C[i][j]=re.sub(re.escape('1+x'),'x+1',C[i][j])\n",
    "                C[i][j]=re.sub(re.escape('1+x+1'),'x',C[i][j])\n",
    "                C[i][j]=re.sub(re.escape('x+0'),'x',C[i][j])\n",
    "                C[i][j]=re.sub(re.escape('x+1'),'x+1',C[i][j])\n",
    "                C[i][j]=re.sub(re.escape('x+x'),'0',C[i][j])\n",
    "                C[i][j]=re.sub(re.escape('x+x+1'),'1',C[i][j])\n",
    "                C[i][j]=re.sub(re.escape('x+1+0'),'x+1',C[i][j])\n",
    "                C[i][j]=re.sub(re.escape('x+1+1'),'x',C[i][j])\n",
    "                C[i][j]=re.sub(re.escape('x+1+x'),'1',C[i][j])\n",
    "                C[i][j]=re.sub(re.escape('x+1+x+1'),'0',C[i][j])\n",
    "    print C\n",
    "    \n",
    "SL_mult([['x','x+1'],['1','1']],[['x+1','0'],['1','x']])\n",
    " "
   ]
  },
  {
   "cell_type": "markdown",
   "metadata": {},
   "source": [
    "# 5.1 Arithmetic in finite fields F4 and F5\n",
    "out of 4 points."
   ]
  },
  {
   "cell_type": "code",
   "execution_count": 59,
   "metadata": {
    "collapsed": false
   },
   "outputs": [
    {
     "name": "stdout",
     "output_type": "stream",
     "text": [
      "a=x\n",
      "b=x+1\n",
      "product is:\n",
      "1\n",
      "sum is:\n",
      "1\n",
      "quotient (b divided by a) is:\n",
      "x\n"
     ]
    }
   ],
   "source": [
    "def F4product(x,y):\n",
    "    if x=='0'or y=='0':\n",
    "        return '0'\n",
    "    elif x=='1':\n",
    "        return y\n",
    "    elif y=='1':\n",
    "        return x\n",
    "    elif x=='x':\n",
    "        if y=='x+1':\n",
    "            return '1'\n",
    "        if y=='x':\n",
    "            return 'x+1'\n",
    "    elif y =='x':\n",
    "        if x=='x+1':\n",
    "            return 'x'\n",
    "    elif ((x=='x+1') & (y=='x+1')):\n",
    "            return 'x'\n",
    "        \n",
    "def F4add(x,y):\n",
    "    if x=='0':\n",
    "        return y\n",
    "    elif y=='0':\n",
    "        return x\n",
    "    elif y=='1':\n",
    "        return x\n",
    "    elif (x==y):\n",
    "        return '0'\n",
    "    elif (((x=='x') & (y=='1')) or ((y=='x)') & (x=='1'))):\n",
    "        return 'x+1'\n",
    "    elif (((x=='x+1') & (y=='1')) or ((y=='x+1') & (x=='1'))):\n",
    "        return 'x'\n",
    "    elif (((x=='x+1') & (y=='x')) or ((y=='x+1') & (x=='x'))):\n",
    "        return '1'\n",
    "\n",
    "def F4quot(x,y):\n",
    "    elements=['0','1','x','x+1']\n",
    "    if y=='0':\n",
    "        return \"Can't divide by zero\"\n",
    "    for i in elements:\n",
    "        if F4product(x,i)==y:\n",
    "            return i\n",
    "    return 'None found'\n",
    "\n",
    "\"\"\"user input goes here\"\"\"\n",
    "a='x'\n",
    "b='x+1'\n",
    "\n",
    "print 'a='+a\n",
    "print 'b='+b\n",
    "print \"product is:\"\n",
    "print(F4product(a,b))\n",
    "print \"sum is:\"\n",
    "print(F4add(a,b))\n",
    "print \"quotient (b divided by a) is:\"\n",
    "print(F4quot(a,b))\n"
   ]
  },
  {
   "cell_type": "code",
   "execution_count": 32,
   "metadata": {
    "collapsed": false
   },
   "outputs": [
    {
     "name": "stdout",
     "output_type": "stream",
     "text": [
      "product is:\n",
      "3\n",
      "sum is:\n",
      "1\n",
      "quotient is:\n",
      "2\n"
     ]
    }
   ],
   "source": [
    "\"\"\"user input goes here\"\"\"\n",
    "a=2\n",
    "b=4\n",
    "\n",
    "def F5quot(x,y):\n",
    "    if y=='0':\n",
    "        return \"Can't divide by zero\"\n",
    "    for i in [1,2,3,4]:\n",
    "        if (x*i)%5==y:\n",
    "            return i\n",
    "    return 'None found'\n",
    "    \n",
    "print \"product is:\"\n",
    "print (a*b)%5\n",
    "print \"sum is:\"\n",
    "print (a+b)%5\n",
    "print \"quotient is:\"\n",
    "print F5quot(a,b)"
   ]
  },
  {
   "cell_type": "markdown",
   "metadata": {},
   "source": [
    "# 6.2 Constructing an Eulerian walk for a graph with all even vertices\n",
    "A function that constructs an Euler cycle for a graph where every vertex has even degree"
   ]
  },
  {
   "cell_type": "code",
   "execution_count": 33,
   "metadata": {
    "collapsed": false
   },
   "outputs": [
    {
     "name": "stdout",
     "output_type": "stream",
     "text": [
      "([(1, 2), (2, 3), (3, 1), (3, 4), (4, 5), (5, 3), (5, 6), (6, 7), (7, 5), (4, 8), (8, 9), (9, 4)], 1)\n",
      "([(2, 3), (3, 1), (3, 4), (4, 5), (5, 3), (5, 6), (6, 7), (7, 5), (4, 8), (8, 9), (9, 4)], 2)\n",
      "([(3, 1), (4, 5), (5, 3), (5, 6), (6, 7), (7, 5), (8, 9), (9, 4)], 8)\n",
      "([(3, 1), (4, 5), (5, 3), (5, 6), (6, 7), (7, 5), (9, 4)], 9)\n",
      "([(3, 1), (4, 5), (5, 3), (5, 6), (6, 7), (7, 5)], 4)\n",
      "([(3, 1), (5, 3), (6, 7), (7, 5)], 6)\n",
      "([(3, 1), (5, 3), (7, 5)], 7)\n",
      "([(3, 1), (5, 3)], 5)\n",
      "([(3, 1)], 3)\n",
      "[1, 2, 3, 4, 8, 9, 4, 5, 6, 7, 5, 3, 1]\n"
     ]
    }
   ],
   "source": [
    "#graph will be a list of tuples representing the edge set\n",
    "#assumes that euler path exists\n",
    "def euler(graph):  \n",
    "    path = []\n",
    "    current_vertex = graph[0][0]\n",
    "    path.append(current_vertex)\n",
    "    while len(graph) > 0:\n",
    "        print(graph, current_vertex)\n",
    "        for i in graph:\n",
    "            #find a viable edge out of current vertex\n",
    "            if current_vertex in i:\n",
    "                #if current vertex is origin of edge\n",
    "                if i[0] == current_vertex:\n",
    "                    #new current vertex is dest of edge\n",
    "                    current_vertex = i[1]\n",
    "                else:\n",
    "                    #else new current vertex is origin of edge\n",
    "                    current_vertex = i[0]\n",
    "                #remove edge from graph\n",
    "                graph.remove(i)\n",
    "                path.append(current_vertex)\n",
    "    return path\n",
    "\n",
    "graph = [(1, 2), (2, 3), (3, 1), (3, 4), (4, 5),(5, 3),(5, 6),(6, 7),(7,5),(4,8),(8,9),(9,4)]\n",
    "print(euler(graph))"
   ]
  },
  {
   "cell_type": "code",
   "execution_count": null,
   "metadata": {
    "collapsed": true
   },
   "outputs": [],
   "source": [
    "# graph2 =[(1,2),(1,3),(1,5),(2,3),(2,4),(2,6),(3,4),(3,6),(4,6),(5,6)]\n",
    "# print(euler(graph2))"
   ]
  }
 ],
 "metadata": {
  "kernelspec": {
   "display_name": "Python 2",
   "language": "python",
   "name": "python2"
  },
  "language_info": {
   "codemirror_mode": {
    "name": "ipython",
    "version": 2
   },
   "file_extension": ".py",
   "mimetype": "text/x-python",
   "name": "python",
   "nbconvert_exporter": "python",
   "pygments_lexer": "ipython2",
   "version": "2.7.10"
  }
 },
 "nbformat": 4,
 "nbformat_minor": 0
}
